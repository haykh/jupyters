{
 "cells": [
  {
   "cell_type": "code",
   "execution_count": 18,
   "metadata": {},
   "outputs": [
    {
     "data": {
      "application/vnd.jupyter.widget-view+json": {
       "model_id": "617dee3555c74c80b822259367688d8b",
       "version_major": 2,
       "version_minor": 0
      },
      "text/plain": [
       "interactive(children=(FloatSlider(value=10.0, description='L_over_lambda', min=1.0), FloatSlider(value=10.0, d…"
      ]
     },
     "metadata": {},
     "output_type": "display_data"
    }
   ],
   "source": [
    "# Run with Shift+Enter or Ctrl+Enter\n",
    "\n",
    "import ipywidgets as widgets\n",
    "@widgets.interact(L_over_lambda = (1., 100.), mi_over_me = (1., 20.), ncores = [512, 1024, 2048],\n",
    "                  de_over_dx = (1, 10), ppc0 = (1, 10), sigma = (0.1, 10), beta_A = (0.1, 1), rate = (3e6, 6e6))\n",
    "def f(L_over_lambda = 10.,\n",
    "      mi_over_me = 10.,\n",
    "      ncores = 2048,\n",
    "      de_over_dx = 5.,\n",
    "      ppc0 = 5.,\n",
    "      sigma = 10.,\n",
    "      beta_A = 1.,\n",
    "      rate = 3e6):\n",
    "    pi = 3.14159265\n",
    "    part_per_core = (8. * L_over_lambda**3 * mi_over_me**1.5 * pi**3 * ppc0 * sigma**3) / (ncores * de_over_dx**-3)\n",
    "    resolution = (2. * L_over_lambda * mi_over_me**0.5 * pi * sigma) * de_over_dx\n",
    "    cpuhrs_per_period = (L_over_lambda**3. * mi_over_me**2 * pi**4 * ppc0 * sigma**4)/(225. * de_over_dx**-4 * rate * beta_A)\n",
    "    print(\"Parts/core [1e6]:\", part_per_core/1e6)\n",
    "    print(\"Resolution:\", resolution)\n",
    "    print(\"CPU-HR per period:\", cpuhrs_per_period)\n",
    "    print(\"---\\nL_over_lambda:\\t\\tSize of the system over the wavelength of fastest growing mode\")\n",
    "    print(\"mi_over_me:\\t\\tmi/me\")\n",
    "    print(\"de_over_dx:\\t\\tElectron skin depth in gridsize\")\n",
    "    print(\"sigma:\\t\\t\\tCyclotron frequency / rotation frequency\")\n",
    "    print(\"beta_A:\\t\\t\\t(vertical) Alfvén velocity / c\")\n",
    "    print(\"rate:\\t\\t\\tNumber of pushes per second per per processor\")"
   ]
  },
  {
   "cell_type": "code",
   "execution_count": null,
   "metadata": {},
   "outputs": [],
   "source": []
  }
 ],
 "metadata": {
  "kernelspec": {
   "display_name": "Python 3",
   "language": "python",
   "name": "python3"
  },
  "language_info": {
   "codemirror_mode": {
    "name": "ipython",
    "version": 3
   },
   "file_extension": ".py",
   "mimetype": "text/x-python",
   "name": "python",
   "nbconvert_exporter": "python",
   "pygments_lexer": "ipython3",
   "version": "3.6.6"
  }
 },
 "nbformat": 4,
 "nbformat_minor": 2
}
